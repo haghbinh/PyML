{
  "nbformat": 4,
  "nbformat_minor": 0,
  "metadata": {
    "colab": {
      "provenance": []
    },
    "kernelspec": {
      "name": "python3",
      "display_name": "Python 3"
    },
    "language_info": {
      "name": "python"
    }
  },
  "cells": [
    {
      "cell_type": "code",
      "execution_count": 2,
      "metadata": {
        "id": "_7yH_SVfWcQE"
      },
      "outputs": [],
      "source": [
        "import tensorflow as tf \n",
        "from tensorflow import keras"
      ]
    },
    {
      "cell_type": "code",
      "source": [
        "print(\"tensorflow is version: \", tf.__version__) \n",
        "print(\"Keras is version: \", keras.__version__)"
      ],
      "metadata": {
        "colab": {
          "base_uri": "https://localhost:8080/"
        },
        "id": "lwOlAK0EWp6J",
        "outputId": "f4138e3f-42d5-4b7a-830f-baa341cf7d18"
      },
      "execution_count": 3,
      "outputs": [
        {
          "output_type": "stream",
          "name": "stdout",
          "text": [
            "tensorflow is version:  2.9.2\n",
            "Keras is version:  2.9.0\n"
          ]
        }
      ]
    },
    {
      "cell_type": "code",
      "source": [
        "fashion_mnist = keras.datasets.fashion_mnist\n",
        "(x_train_full, y_train_full), (x_test, y_test) = fashion_mnist.load_data() "
      ],
      "metadata": {
        "id": "z5IYbXJ1Ws33"
      },
      "execution_count": 9,
      "outputs": []
    },
    {
      "cell_type": "code",
      "source": [
        "print('x_train_full shape: ', x_train_full.shape, 'x_train_full type: ', x_train_full.dtype) \n",
        "print('y_train_full shape: ', y_train_full.shape, 'y_train_full type: ', y_train_full.dtype) \n",
        "print('x_test shape: ', x_test.shape, 'x_test type: ', x_test.dtype) \n",
        "print('y_test shape:', y_test.shape, 'y_test type', y_test.dtype)"
      ],
      "metadata": {
        "colab": {
          "base_uri": "https://localhost:8080/"
        },
        "id": "z3Hm7asDW-a-",
        "outputId": "25a3ac74-c322-427a-c26b-8eafdbdc9de8"
      },
      "execution_count": 10,
      "outputs": [
        {
          "output_type": "stream",
          "name": "stdout",
          "text": [
            "x_train_full shape:  (60000, 28, 28) x_train_full type:  uint8\n",
            "y_train_full shape:  (60000,) y_train_full type:  uint8\n",
            "x_test shape:  (10000, 28, 28) x_test type:  uint8\n",
            "y_test shape: (10000,) y_test type uint8\n"
          ]
        }
      ]
    },
    {
      "cell_type": "code",
      "source": [
        "x_valid, x_train = x_train_full[50000:] / 255.0, x_train_full[:50000] / 255.0\n",
        "y_valid, y_train = y_train_full[50000:], y_train_full[:50000]"
      ],
      "metadata": {
        "id": "_R9by1gwXFBv"
      },
      "execution_count": 11,
      "outputs": []
    },
    {
      "cell_type": "code",
      "source": [
        "# Second method\n",
        "model = keras.models.Sequential([ keras.layers.Flatten(input_shape=[28, 28]), \n",
        "                                  keras.layers.Dense(300, activation=\"relu\"), \n",
        "                                  keras.layers.Dense(100, activation=\"relu\"), \n",
        "                                  keras.layers.Dense(10, activation=\"softmax\") ])"
      ],
      "metadata": {
        "id": "zy1dPrQ3XOyb"
      },
      "execution_count": 12,
      "outputs": []
    },
    {
      "cell_type": "code",
      "source": [
        "model.summary()"
      ],
      "metadata": {
        "colab": {
          "base_uri": "https://localhost:8080/"
        },
        "id": "1EXRQhDPXqCU",
        "outputId": "cb08b350-fa2d-4325-86f8-9b7e92be9ae8"
      },
      "execution_count": 13,
      "outputs": [
        {
          "output_type": "stream",
          "name": "stdout",
          "text": [
            "Model: \"sequential\"\n",
            "_________________________________________________________________\n",
            " Layer (type)                Output Shape              Param #   \n",
            "=================================================================\n",
            " flatten (Flatten)           (None, 784)               0         \n",
            "                                                                 \n",
            " dense (Dense)               (None, 300)               235500    \n",
            "                                                                 \n",
            " dense_1 (Dense)             (None, 100)               30100     \n",
            "                                                                 \n",
            " dense_2 (Dense)             (None, 10)                1010      \n",
            "                                                                 \n",
            "=================================================================\n",
            "Total params: 266,610\n",
            "Trainable params: 266,610\n",
            "Non-trainable params: 0\n",
            "_________________________________________________________________\n"
          ]
        }
      ]
    },
    {
      "cell_type": "code",
      "source": [
        "model.compile(loss=\"sparse_categorical_crossentropy\", optimizer=\"sgd\", metrics=[\"accuracy\"])"
      ],
      "metadata": {
        "id": "ryeehv7XXs_T"
      },
      "execution_count": 14,
      "outputs": []
    },
    {
      "cell_type": "code",
      "source": [
        "history = model.fit(x_train, y_train, epochs=30, validation_data=(x_valid, y_valid))"
      ],
      "metadata": {
        "colab": {
          "base_uri": "https://localhost:8080/"
        },
        "id": "nq-BeA5TXwNx",
        "outputId": "a50d0d55-bcc1-473c-efae-504c23dcfbc5"
      },
      "execution_count": 17,
      "outputs": [
        {
          "output_type": "stream",
          "name": "stdout",
          "text": [
            "Epoch 1/30\n",
            "1563/1563 [==============================] - 8s 5ms/step - loss: 0.7333 - accuracy: 0.7601 - val_loss: 0.5325 - val_accuracy: 0.8152\n",
            "Epoch 2/30\n",
            "1563/1563 [==============================] - 8s 5ms/step - loss: 0.4844 - accuracy: 0.8310 - val_loss: 0.4603 - val_accuracy: 0.8396\n",
            "Epoch 3/30\n",
            "1563/1563 [==============================] - 8s 5ms/step - loss: 0.4435 - accuracy: 0.8456 - val_loss: 0.4535 - val_accuracy: 0.8368\n",
            "Epoch 4/30\n",
            "1563/1563 [==============================] - 7s 5ms/step - loss: 0.4160 - accuracy: 0.8545 - val_loss: 0.4251 - val_accuracy: 0.8503\n",
            "Epoch 5/30\n",
            "1563/1563 [==============================] - 8s 5ms/step - loss: 0.3976 - accuracy: 0.8606 - val_loss: 0.4165 - val_accuracy: 0.8527\n",
            "Epoch 6/30\n",
            "1563/1563 [==============================] - 7s 5ms/step - loss: 0.3814 - accuracy: 0.8658 - val_loss: 0.3912 - val_accuracy: 0.8616\n",
            "Epoch 7/30\n",
            "1563/1563 [==============================] - 8s 5ms/step - loss: 0.3689 - accuracy: 0.8700 - val_loss: 0.4083 - val_accuracy: 0.8610\n",
            "Epoch 8/30\n",
            "1563/1563 [==============================] - 8s 5ms/step - loss: 0.3576 - accuracy: 0.8733 - val_loss: 0.3994 - val_accuracy: 0.8568\n",
            "Epoch 9/30\n",
            "1563/1563 [==============================] - 8s 5ms/step - loss: 0.3476 - accuracy: 0.8765 - val_loss: 0.3706 - val_accuracy: 0.8691\n",
            "Epoch 10/30\n",
            "1563/1563 [==============================] - 8s 5ms/step - loss: 0.3372 - accuracy: 0.8802 - val_loss: 0.3777 - val_accuracy: 0.8666\n",
            "Epoch 11/30\n",
            "1563/1563 [==============================] - 7s 5ms/step - loss: 0.3298 - accuracy: 0.8832 - val_loss: 0.3643 - val_accuracy: 0.8683\n",
            "Epoch 12/30\n",
            "1563/1563 [==============================] - 8s 5ms/step - loss: 0.3213 - accuracy: 0.8855 - val_loss: 0.3693 - val_accuracy: 0.8692\n",
            "Epoch 13/30\n",
            "1563/1563 [==============================] - 11s 7ms/step - loss: 0.3153 - accuracy: 0.8871 - val_loss: 0.3565 - val_accuracy: 0.8737\n",
            "Epoch 14/30\n",
            "1563/1563 [==============================] - 12s 8ms/step - loss: 0.3062 - accuracy: 0.8903 - val_loss: 0.3462 - val_accuracy: 0.8759\n",
            "Epoch 15/30\n",
            "1563/1563 [==============================] - 8s 5ms/step - loss: 0.3000 - accuracy: 0.8929 - val_loss: 0.3600 - val_accuracy: 0.8758\n",
            "Epoch 16/30\n",
            "1563/1563 [==============================] - 10s 6ms/step - loss: 0.2952 - accuracy: 0.8938 - val_loss: 0.3664 - val_accuracy: 0.8685\n",
            "Epoch 17/30\n",
            "1563/1563 [==============================] - 8s 5ms/step - loss: 0.2902 - accuracy: 0.8961 - val_loss: 0.3341 - val_accuracy: 0.8802\n",
            "Epoch 18/30\n",
            "1563/1563 [==============================] - 8s 5ms/step - loss: 0.2841 - accuracy: 0.8973 - val_loss: 0.3355 - val_accuracy: 0.8783\n",
            "Epoch 19/30\n",
            "1563/1563 [==============================] - 7s 5ms/step - loss: 0.2778 - accuracy: 0.9008 - val_loss: 0.3547 - val_accuracy: 0.8719\n",
            "Epoch 20/30\n",
            "1563/1563 [==============================] - 7s 5ms/step - loss: 0.2733 - accuracy: 0.9018 - val_loss: 0.3260 - val_accuracy: 0.8813\n",
            "Epoch 21/30\n",
            "1563/1563 [==============================] - 9s 6ms/step - loss: 0.2682 - accuracy: 0.9038 - val_loss: 0.3215 - val_accuracy: 0.8851\n",
            "Epoch 22/30\n",
            "1563/1563 [==============================] - 9s 6ms/step - loss: 0.2645 - accuracy: 0.9053 - val_loss: 0.3248 - val_accuracy: 0.8833\n",
            "Epoch 23/30\n",
            "1563/1563 [==============================] - 7s 5ms/step - loss: 0.2583 - accuracy: 0.9069 - val_loss: 0.3185 - val_accuracy: 0.8857\n",
            "Epoch 24/30\n",
            "1563/1563 [==============================] - 7s 5ms/step - loss: 0.2553 - accuracy: 0.9075 - val_loss: 0.3271 - val_accuracy: 0.8821\n",
            "Epoch 25/30\n",
            "1563/1563 [==============================] - 8s 5ms/step - loss: 0.2499 - accuracy: 0.9099 - val_loss: 0.3249 - val_accuracy: 0.8820\n",
            "Epoch 26/30\n",
            "1563/1563 [==============================] - 8s 5ms/step - loss: 0.2471 - accuracy: 0.9109 - val_loss: 0.3231 - val_accuracy: 0.8838\n",
            "Epoch 27/30\n",
            "1563/1563 [==============================] - 8s 5ms/step - loss: 0.2432 - accuracy: 0.9132 - val_loss: 0.3357 - val_accuracy: 0.8805\n",
            "Epoch 28/30\n",
            "1563/1563 [==============================] - 8s 5ms/step - loss: 0.2392 - accuracy: 0.9145 - val_loss: 0.3264 - val_accuracy: 0.8820\n",
            "Epoch 29/30\n",
            "1563/1563 [==============================] - 8s 5ms/step - loss: 0.2356 - accuracy: 0.9155 - val_loss: 0.3144 - val_accuracy: 0.8883\n",
            "Epoch 30/30\n",
            "1563/1563 [==============================] - 8s 5ms/step - loss: 0.2316 - accuracy: 0.9164 - val_loss: 0.3180 - val_accuracy: 0.8872\n"
          ]
        }
      ]
    },
    {
      "cell_type": "code",
      "source": [
        "import pandas as pd \n",
        "import matplotlib.pyplot as plt \n",
        "pd.DataFrame(history.history).plot(figsize=(8, 5)) \n",
        "plt.grid(True) \n",
        "plt.gca().set_ylim(0, 1)  # set the vertical range to [0-1] \n",
        "plt.show()"
      ],
      "metadata": {
        "colab": {
          "base_uri": "https://localhost:8080/",
          "height": 324
        },
        "id": "3YePDRVZY9gp",
        "outputId": "98e9123a-7bf5-4781-a4f0-179a688ac1e9"
      },
      "execution_count": 18,
      "outputs": [
        {
          "output_type": "display_data",
          "data": {
            "text/plain": [
              "<Figure size 576x360 with 1 Axes>"
            ],
            "image/png": "[encoded data removed]"
          },
          "metadata": {
            "needs_background": "light"
          }
        }
      ]
    },
    {
      "cell_type": "code",
      "source": [
        "model.evaluate(x_test/255, y_test)"
      ],
      "metadata": {
        "colab": {
          "base_uri": "https://localhost:8080/"
        },
        "id": "szDQFTnVZgYl",
        "outputId": "2eb3bca0-6c3b-488b-cc4e-2f943cfd595a"
      },
      "execution_count": 19,
      "outputs": [
        {
          "output_type": "stream",
          "name": "stdout",
          "text": [
            "313/313 [==============================] - 1s 3ms/step - loss: 0.3395 - accuracy: 0.8807\n"
          ]
        },
        {
          "output_type": "execute_result",
          "data": {
            "text/plain": [
              "[0.3395448923110962, 0.8806999921798706]"
            ]
          },
          "metadata": {},
          "execution_count": 19
        }
      ]
    },
    {
      "cell_type": "code",
      "source": [],
      "metadata": {
        "id": "zSG1zB0jZhQY"
      },
      "execution_count": null,
      "outputs": []
    }
  ]
}