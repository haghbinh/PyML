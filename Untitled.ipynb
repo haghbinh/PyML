{
 "cells": [
  {
   "cell_type": "code",
   "execution_count": 1,
   "id": "14b87170",
   "metadata": {},
   "outputs": [],
   "source": [
    "import pathlib\n",
    "imgdir_path = pathlib.Path('dataset\\\\cat_dog_images')\n",
    "file_list = sorted([str(path) for path in imgdir_path.glob('*.jpg')])"
   ]
  },
  {
   "cell_type": "code",
   "execution_count": 2,
   "id": "082e38a4",
   "metadata": {},
   "outputs": [
    {
     "data": {
      "text/plain": [
       "['dataset\\\\cat_dog_images\\\\cat-01.jpg',\n",
       " 'dataset\\\\cat_dog_images\\\\cat-01_2.jpg',\n",
       " 'dataset\\\\cat_dog_images\\\\cat-03.jpg',\n",
       " 'dataset\\\\cat_dog_images\\\\dog-01.jpg',\n",
       " 'dataset\\\\cat_dog_images\\\\dog-02.jpg',\n",
       " 'dataset\\\\cat_dog_images\\\\dog-03.jpg']"
      ]
     },
     "execution_count": 2,
     "metadata": {},
     "output_type": "execute_result"
    }
   ],
   "source": [
    "file_list"
   ]
  },
  {
   "cell_type": "code",
   "execution_count": null,
   "id": "eac88019",
   "metadata": {},
   "outputs": [
    {
     "name": "stdout",
     "output_type": "stream",
     "text": [
      "Image shape:  (900, 1200, 3)\n"
     ]
    }
   ],
   "source": [
    "import matplotlib.pyplot as plt\n",
    "import tensorflow as tf\n",
    "\n",
    "fig = plt.figure(figsize=(10, 5))\n",
    "for i, file in enumerate(file_list):\n",
    "        img_raw = tf.io.read_file(file)\n",
    "        img = tf.image.decode_image(img_raw)\n",
    "        print('Image shape: ', img.shape)\n",
    "        ax = fig.add_subplot(2, 3, i+1)\n",
    "        ax.set_xticks([]); ax.set_yticks([])\n",
    "        ax.imshow(img)\n",
    "        ax.set_title(os.path.basename(file), size=15)\n",
    "plt.tight_layout()\n",
    "plt.show()"
   ]
  },
  {
   "cell_type": "code",
   "execution_count": 1,
   "id": "fd57bfd9",
   "metadata": {},
   "outputs": [
    {
     "ename": "NameError",
     "evalue": "name 'plt' is not defined",
     "output_type": "error",
     "traceback": [
      "\u001b[1;31m---------------------------------------------------------------------------\u001b[0m",
      "\u001b[1;31mNameError\u001b[0m                                 Traceback (most recent call last)",
      "\u001b[1;32m~\\AppData\\Local\\Temp\\ipykernel_2164\\2122436968.py\u001b[0m in \u001b[0;36m<module>\u001b[1;34m\u001b[0m\n\u001b[1;32m----> 1\u001b[1;33m \u001b[0mplt\u001b[0m\u001b[1;33m.\u001b[0m\u001b[0mshow\u001b[0m\u001b[1;33m(\u001b[0m\u001b[1;33m)\u001b[0m\u001b[1;33m\u001b[0m\u001b[1;33m\u001b[0m\u001b[0m\n\u001b[0m",
      "\u001b[1;31mNameError\u001b[0m: name 'plt' is not defined"
     ]
    }
   ],
   "source": [
    "plt.show()"
   ]
  },
  {
   "cell_type": "code",
   "execution_count": null,
   "id": "b2f8d60b",
   "metadata": {},
   "outputs": [],
   "source": []
  }
 ],
 "metadata": {
  "kernelspec": {
   "display_name": "Python 3 (ipykernel)",
   "language": "python",
   "name": "python3"
  },
  "language_info": {
   "codemirror_mode": {
    "name": "ipython",
    "version": 3
   },
   "file_extension": ".py",
   "mimetype": "text/x-python",
   "name": "python",
   "nbconvert_exporter": "python",
   "pygments_lexer": "ipython3",
   "version": "3.9.13"
  }
 },
 "nbformat": 4,
 "nbformat_minor": 5
}
